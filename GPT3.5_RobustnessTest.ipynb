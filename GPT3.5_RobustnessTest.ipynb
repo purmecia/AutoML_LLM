{
 "cells": [
  {
   "cell_type": "code",
   "execution_count": 1,
   "id": "14c5892e",
   "metadata": {},
   "outputs": [],
   "source": [
    "import pandas as pd\n",
    "import numpy as np\n",
    "import json"
   ]
  },
  {
   "cell_type": "code",
   "execution_count": 2,
   "id": "7d3ef891",
   "metadata": {},
   "outputs": [],
   "source": [
    "heart_data = pd.read_csv(\"heart/heart.csv\")"
   ]
  },
  {
   "cell_type": "code",
   "execution_count": 3,
   "id": "7e2dd04f",
   "metadata": {},
   "outputs": [],
   "source": [
    "# train 70%, val 10%, test 20%\n",
    "heart_train = int(1025/10*7)\n",
    "heart_val = int(1025/10*8)"
   ]
  },
  {
   "cell_type": "code",
   "execution_count": 4,
   "id": "3c4475a8",
   "metadata": {},
   "outputs": [],
   "source": [
    "heart_gpt3_train = heart_data.iloc[0:heart_train, :]\n",
    "heart_gpt3_valid = heart_data.iloc[heart_train:heart_val, :]\n",
    "heart_gpt3_test = heart_data.iloc[heart_val:, :]"
   ]
  },
  {
   "cell_type": "code",
   "execution_count": 5,
   "id": "7f85469a",
   "metadata": {},
   "outputs": [
    {
     "data": {
      "text/html": [
       "<div>\n",
       "<style scoped>\n",
       "    .dataframe tbody tr th:only-of-type {\n",
       "        vertical-align: middle;\n",
       "    }\n",
       "\n",
       "    .dataframe tbody tr th {\n",
       "        vertical-align: top;\n",
       "    }\n",
       "\n",
       "    .dataframe thead th {\n",
       "        text-align: right;\n",
       "    }\n",
       "</style>\n",
       "<table border=\"1\" class=\"dataframe\">\n",
       "  <thead>\n",
       "    <tr style=\"text-align: right;\">\n",
       "      <th></th>\n",
       "      <th>age</th>\n",
       "      <th>sex</th>\n",
       "      <th>cp</th>\n",
       "      <th>trestbps</th>\n",
       "      <th>chol</th>\n",
       "      <th>fbs</th>\n",
       "      <th>restecg</th>\n",
       "      <th>thalach</th>\n",
       "      <th>exang</th>\n",
       "      <th>oldpeak</th>\n",
       "      <th>slope</th>\n",
       "      <th>ca</th>\n",
       "      <th>thal</th>\n",
       "      <th>target</th>\n",
       "    </tr>\n",
       "  </thead>\n",
       "  <tbody>\n",
       "    <tr>\n",
       "      <th>820</th>\n",
       "      <td>61</td>\n",
       "      <td>1</td>\n",
       "      <td>0</td>\n",
       "      <td>140</td>\n",
       "      <td>207</td>\n",
       "      <td>0</td>\n",
       "      <td>0</td>\n",
       "      <td>138</td>\n",
       "      <td>1</td>\n",
       "      <td>1.9</td>\n",
       "      <td>2</td>\n",
       "      <td>1</td>\n",
       "      <td>3</td>\n",
       "      <td>0</td>\n",
       "    </tr>\n",
       "    <tr>\n",
       "      <th>821</th>\n",
       "      <td>62</td>\n",
       "      <td>0</td>\n",
       "      <td>0</td>\n",
       "      <td>140</td>\n",
       "      <td>268</td>\n",
       "      <td>0</td>\n",
       "      <td>0</td>\n",
       "      <td>160</td>\n",
       "      <td>0</td>\n",
       "      <td>3.6</td>\n",
       "      <td>0</td>\n",
       "      <td>2</td>\n",
       "      <td>2</td>\n",
       "      <td>0</td>\n",
       "    </tr>\n",
       "    <tr>\n",
       "      <th>822</th>\n",
       "      <td>60</td>\n",
       "      <td>1</td>\n",
       "      <td>0</td>\n",
       "      <td>130</td>\n",
       "      <td>253</td>\n",
       "      <td>0</td>\n",
       "      <td>1</td>\n",
       "      <td>144</td>\n",
       "      <td>1</td>\n",
       "      <td>1.4</td>\n",
       "      <td>2</td>\n",
       "      <td>1</td>\n",
       "      <td>3</td>\n",
       "      <td>0</td>\n",
       "    </tr>\n",
       "    <tr>\n",
       "      <th>823</th>\n",
       "      <td>54</td>\n",
       "      <td>1</td>\n",
       "      <td>0</td>\n",
       "      <td>140</td>\n",
       "      <td>239</td>\n",
       "      <td>0</td>\n",
       "      <td>1</td>\n",
       "      <td>160</td>\n",
       "      <td>0</td>\n",
       "      <td>1.2</td>\n",
       "      <td>2</td>\n",
       "      <td>0</td>\n",
       "      <td>2</td>\n",
       "      <td>1</td>\n",
       "    </tr>\n",
       "    <tr>\n",
       "      <th>824</th>\n",
       "      <td>61</td>\n",
       "      <td>1</td>\n",
       "      <td>0</td>\n",
       "      <td>138</td>\n",
       "      <td>166</td>\n",
       "      <td>0</td>\n",
       "      <td>0</td>\n",
       "      <td>125</td>\n",
       "      <td>1</td>\n",
       "      <td>3.6</td>\n",
       "      <td>1</td>\n",
       "      <td>1</td>\n",
       "      <td>2</td>\n",
       "      <td>0</td>\n",
       "    </tr>\n",
       "  </tbody>\n",
       "</table>\n",
       "</div>"
      ],
      "text/plain": [
       "     age  sex  cp  trestbps  chol  fbs  restecg  thalach  exang  oldpeak  \\\n",
       "820   61    1   0       140   207    0        0      138      1      1.9   \n",
       "821   62    0   0       140   268    0        0      160      0      3.6   \n",
       "822   60    1   0       130   253    0        1      144      1      1.4   \n",
       "823   54    1   0       140   239    0        1      160      0      1.2   \n",
       "824   61    1   0       138   166    0        0      125      1      3.6   \n",
       "\n",
       "     slope  ca  thal  target  \n",
       "820      2   1     3       0  \n",
       "821      0   2     2       0  \n",
       "822      2   1     3       0  \n",
       "823      2   0     2       1  \n",
       "824      1   1     2       0  "
      ]
     },
     "execution_count": 5,
     "metadata": {},
     "output_type": "execute_result"
    }
   ],
   "source": [
    "heart_gpt3_test.head(5)"
   ]
  },
  {
   "cell_type": "code",
   "execution_count": 40,
   "id": "e7eae752",
   "metadata": {},
   "outputs": [],
   "source": [
    "# An old trial in November 2023\n",
    "def classify_heart_disease(row):\n",
    "  \n",
    "    cp = row[2]  # Chest pain type\n",
    "    thalach = row[7]  # Maximum heart rate achieved\n",
    "    ca = row[11]  # Number of major vessels colored by fluoroscopy\n",
    "    \n",
    "    prediction = 0\n",
    "    \n",
    "    # Rule 1\n",
    "    if cp == 0 and thalach <= 150:\n",
    "        prediction=0\n",
    "    # Rule 2\n",
    "    elif cp == 0 and thalach > 150:\n",
    "        prediction=1\n",
    "        # Rule 3\n",
    "    elif (cp == 1 or cp == 2) and ca < 2:\n",
    "        prediction=1\n",
    "        # Rule 4\n",
    "    elif (cp == 1 or cp == 2) and ca >= 2:\n",
    "        predictions=0\n",
    "        # Rule 5\n",
    "    elif cp == 3:\n",
    "        predictions=1\n",
    "    else:\n",
    "        # If none of the rules match, default to predicting heart disease\n",
    "        predictions=1\n",
    "    \n",
    "    return prediction"
   ]
  },
  {
   "cell_type": "code",
   "execution_count": 41,
   "id": "96e13a99",
   "metadata": {},
   "outputs": [
    {
     "data": {
      "text/plain": [
       "0.6682926829268293"
      ]
     },
     "execution_count": 41,
     "metadata": {},
     "output_type": "execute_result"
    }
   ],
   "source": [
    "test_pred_mod = heart_gpt3_test.apply(classify_heart_disease, axis = 1)\n",
    "np.mean(test_pred_mod == heart_gpt3_test[\"target\"])"
   ]
  },
  {
   "cell_type": "code",
   "execution_count": null,
   "id": "1b053bfc",
   "metadata": {},
   "outputs": [],
   "source": [
    "# New trials in December 2023\n",
    "# First trial"
   ]
  },
  {
   "cell_type": "code",
   "execution_count": 23,
   "id": "6ce50dac",
   "metadata": {},
   "outputs": [],
   "source": [
    "def predict_heart_disease_1(data):\n",
    "    \n",
    "    feature = ['age', 'sex', 'cp', 'thalach', 'exang', 'ca', 'oldpeak', 'thal']\n",
    "    \n",
    "    age, sex, cp, thalach, exang, ca, oldpeak, thal = data[feature]\n",
    "    if age > 45:\n",
    "        return 1  # Predict disease\n",
    "    if sex == 0:\n",
    "        return 1  # Predict disease\n",
    "    if cp == 0:\n",
    "        return 1  # Predict disease\n",
    "    if thalach <= 150:\n",
    "        return 1  # Predict disease\n",
    "    if exang == 1:\n",
    "        return 1  # Predict disease\n",
    "    if ca > 0:\n",
    "        return 1  # Predict disease\n",
    "    if oldpeak > 1.0:\n",
    "        return 1  # Predict disease\n",
    "    if thal in [2, 1]:\n",
    "        return 1  # Predict disease\n",
    "    \n",
    "    return 0  # Predict no disease"
   ]
  },
  {
   "cell_type": "code",
   "execution_count": 24,
   "id": "15c533f8",
   "metadata": {},
   "outputs": [
    {
     "data": {
      "text/plain": [
       "0.4682926829268293"
      ]
     },
     "execution_count": 24,
     "metadata": {},
     "output_type": "execute_result"
    }
   ],
   "source": [
    "test_pred_mod = heart_gpt3_test.apply(predict_heart_disease_1, axis = 1)\n",
    "np.mean(test_pred_mod == heart_gpt3_test[\"target\"])"
   ]
  },
  {
   "cell_type": "code",
   "execution_count": null,
   "id": "204074e3",
   "metadata": {},
   "outputs": [],
   "source": [
    "# Second Trial"
   ]
  },
  {
   "cell_type": "code",
   "execution_count": 27,
   "id": "b7eda612",
   "metadata": {},
   "outputs": [],
   "source": [
    "def predict_heart_disease_2(data):\n",
    "    \n",
    "    feature = ['age', 'sex', 'cp', 'thalach']\n",
    "    age, sex, cp, thalach = data[feature]\n",
    "    \n",
    "    # Rule 1: Age-based Classification\n",
    "    if age <= 45 and sex == 1:\n",
    "        return 0  # Low risk\n",
    "    elif age > 45 and sex == 1:\n",
    "        return 1  # Moderate risk\n",
    "    elif sex == 0:\n",
    "        return 0  # Low risk\n",
    "    \n",
    "    # Rule 2: Chest Pain Type-based Classification\n",
    "    if cp in [0, 1]:\n",
    "        return 0  # Low risk\n",
    "    elif cp in [2, 3]:\n",
    "        return 1  # High risk\n",
    "    \n",
    "    # Rule 3: Maximum Heart Rate-based Classification\n",
    "    if thalach <= 150:\n",
    "        return 0  # Low risk\n",
    "    else:\n",
    "        return 1  # High risk"
   ]
  },
  {
   "cell_type": "code",
   "execution_count": 28,
   "id": "a3a036e2",
   "metadata": {},
   "outputs": [
    {
     "data": {
      "text/plain": [
       "0.35609756097560974"
      ]
     },
     "execution_count": 28,
     "metadata": {},
     "output_type": "execute_result"
    }
   ],
   "source": [
    "test_pred_mod = heart_gpt3_test.apply(predict_heart_disease_2, axis = 1)\n",
    "np.mean(test_pred_mod == heart_gpt3_test[\"target\"])"
   ]
  },
  {
   "cell_type": "code",
   "execution_count": null,
   "id": "e6c5e6f9",
   "metadata": {},
   "outputs": [],
   "source": [
    "# Third Trial"
   ]
  },
  {
   "cell_type": "code",
   "execution_count": 31,
   "id": "5300c29c",
   "metadata": {},
   "outputs": [],
   "source": [
    "def predict_heart_disease_3(row):\n",
    "    age = row['age']\n",
    "    sex = row['sex']\n",
    "    cp = row['cp']\n",
    "    trestbps = row['trestbps']\n",
    "    chol = row['chol']\n",
    "    fbs = row['fbs']\n",
    "    restecg = row['restecg']\n",
    "    thalach = row['thalach']\n",
    "    exang = row['exang']\n",
    "    oldpeak = row['oldpeak']\n",
    "    slope = row['slope']\n",
    "    ca = row['ca']\n",
    "    thal = row['thal']\n",
    "    \n",
    "    # Rule 1: If age is greater than 50, it's more likely to have heart disease\n",
    "    if age > 50:\n",
    "        return 1\n",
    "    \n",
    "    # Rule 2: If chest pain type (cp) is 0, it's less likely to have heart disease\n",
    "    if cp == 0:\n",
    "        return 0\n",
    "    \n",
    "    # Rule 3: If thalach (maximum heart rate achieved) is less than 150, it's more likely to have heart disease\n",
    "    if thalach < 150:\n",
    "        return 1\n",
    "    \n",
    "    # Rule 4: If oldpeak (ST depression induced by exercise relative to rest) is greater than 2, it's more likely to have heart disease\n",
    "    if oldpeak > 2:\n",
    "        return 1\n",
    "    \n",
    "    # Rule 5: If ca (number of major vessels) is 0, it's less likely to have heart disease\n",
    "    if ca == 0:\n",
    "        return 0\n",
    "    \n",
    "    # Default: If none of the above rules apply, return 0 (less likely to have heart disease)\n",
    "    return 0"
   ]
  },
  {
   "cell_type": "code",
   "execution_count": 32,
   "id": "350b8429",
   "metadata": {},
   "outputs": [
    {
     "data": {
      "text/plain": [
       "0.4097560975609756"
      ]
     },
     "execution_count": 32,
     "metadata": {},
     "output_type": "execute_result"
    }
   ],
   "source": [
    "test_pred_mod = heart_gpt3_test.apply(predict_heart_disease_3, axis = 1)\n",
    "np.mean(test_pred_mod == heart_gpt3_test[\"target\"])"
   ]
  },
  {
   "cell_type": "code",
   "execution_count": null,
   "id": "b5fcceb8",
   "metadata": {},
   "outputs": [],
   "source": [
    "# Fourth Trial"
   ]
  },
  {
   "cell_type": "code",
   "execution_count": 35,
   "id": "14b2f101",
   "metadata": {},
   "outputs": [],
   "source": [
    "def predict_heart_disease_4(data):\n",
    "    feature = ['age', 'sex', 'cp', 'thalach', 'exang', 'ca', 'oldpeak', 'thal']\n",
    "    \n",
    "    age, sex, cp, thalach, exang, ca, oldpeak, thal = data[feature]\n",
    "    # Age Rule\n",
    "    if age <= 45:\n",
    "        return 0  # Less likely to have heart disease\n",
    "    else:\n",
    "        # Gender Rule\n",
    "        if sex == 0:\n",
    "            return 0  # Less likely to have heart disease\n",
    "        else:\n",
    "            # Chest Pain Type Rule\n",
    "            if cp in [0, 2]:\n",
    "                return 1  # More likely to have heart disease\n",
    "            else:\n",
    "                # Maximum Heart Rate Rule\n",
    "                if thalach > 150:\n",
    "                    return 0  # Less likely to have heart disease\n",
    "                else:\n",
    "                    # Exercise-Induced Angina Rule\n",
    "                    if exang == 0:\n",
    "                        return 0  # Less likely to have heart disease\n",
    "                    else:\n",
    "                        # ST Depression Rule\n",
    "                        if oldpeak > 1.0:\n",
    "                            return 1  # More likely to have heart disease\n",
    "                        else:\n",
    "                            # Number of Major Vessels Rule\n",
    "                            if ca >= 1:\n",
    "                                return 1  # More likely to have heart disease\n",
    "                            else:\n",
    "                                # Thalassemia Rule\n",
    "                                if thal == 2:\n",
    "                                    return 1  # More likely to have heart disease\n",
    "                                else:\n",
    "                                    return 0  # Less likely to have heart disease"
   ]
  },
  {
   "cell_type": "code",
   "execution_count": 36,
   "id": "be89567e",
   "metadata": {},
   "outputs": [
    {
     "data": {
      "text/plain": [
       "0.33658536585365856"
      ]
     },
     "execution_count": 36,
     "metadata": {},
     "output_type": "execute_result"
    }
   ],
   "source": [
    "test_pred_mod = heart_gpt3_test.apply(predict_heart_disease_4, axis = 1)\n",
    "np.mean(test_pred_mod == heart_gpt3_test[\"target\"])"
   ]
  },
  {
   "cell_type": "code",
   "execution_count": null,
   "id": "f037164d",
   "metadata": {},
   "outputs": [],
   "source": [
    "# Fifth Trial"
   ]
  },
  {
   "cell_type": "code",
   "execution_count": 37,
   "id": "e7041488",
   "metadata": {},
   "outputs": [],
   "source": [
    "def predict_heart_disease_5(data):\n",
    "    \n",
    "    feature = ['age', 'sex', 'cp', 'trestbps', 'chol', 'fbs', 'restecg', 'thalach', 'exang', 'oldpeak', 'slope', 'ca', 'thal']\n",
    "    age, sex, cp, trestbps, chol, fbs, restecg, thalach, exang, oldpeak, slope, ca, thal = data[feature]\n",
    "    if sex == 0:\n",
    "        return 1  # Rule 1: Female patients tend to have a higher risk of heart disease.\n",
    "    \n",
    "    if cp == 0:\n",
    "        return 0  # Rule 2: Typical angina is associated with a lower risk of heart disease.\n",
    "    \n",
    "    if thalach <= 150:\n",
    "        return 1  # Rule 3: Patients with lower maximum heart rates tend to have a higher risk.\n",
    "    \n",
    "    if age > 60 and trestbps > 140:\n",
    "        return 1  # Rule 4: Older patients with high resting blood pressure are at risk.\n",
    "    \n",
    "    if exang == 1:\n",
    "        return 1  # Rule 5: Exercise-induced angina is a sign of heart disease.\n",
    "    \n",
    "    if oldpeak >= 2.0:\n",
    "        return 1  # Rule 6: High ST depression indicates a higher risk of heart disease.\n",
    "    \n",
    "    return 0  # Default prediction: No disease."
   ]
  },
  {
   "cell_type": "code",
   "execution_count": 38,
   "id": "a5111284",
   "metadata": {},
   "outputs": [
    {
     "data": {
      "text/plain": [
       "0.6341463414634146"
      ]
     },
     "execution_count": 38,
     "metadata": {},
     "output_type": "execute_result"
    }
   ],
   "source": [
    "test_pred_mod = heart_gpt3_test.apply(predict_heart_disease_5, axis = 1)\n",
    "np.mean(test_pred_mod == heart_gpt3_test[\"target\"])"
   ]
  },
  {
   "cell_type": "code",
   "execution_count": 42,
   "id": "d01c0ef2",
   "metadata": {},
   "outputs": [],
   "source": [
    "import matplotlib.pyplot as plt"
   ]
  },
  {
   "cell_type": "code",
   "execution_count": 43,
   "id": "e83bdf63",
   "metadata": {},
   "outputs": [],
   "source": [
    "X = [f\"Trial {i}\" for i in range(1, 7)]\n",
    "accu = [66.83,46.83,35.61,40.98,33.66,63.41]"
   ]
  },
  {
   "cell_type": "code",
   "execution_count": 45,
   "id": "d42f4f23",
   "metadata": {},
   "outputs": [
    {
     "data": {
      "image/png": "[encoded data removed]",
      "text/plain": [
       "<Figure size 640x480 with 1 Axes>"
      ]
     },
     "metadata": {},
     "output_type": "display_data"
    }
   ],
   "source": [
    "X_axis = np.arange(len(X)) \n",
    "  \n",
    "plt.bar(X_axis, accu, 0.4) \n",
    "\n",
    "  \n",
    "plt.xticks(X_axis, X) \n",
    "#plt.xlabel(\"\") \n",
    "plt.ylabel(\"Accuracy %\") \n",
    "plt.title(\"GPT3.5: Accuracy with Context\")  \n",
    "plt.show() "
   ]
  }
 ],
 "metadata": {
  "kernelspec": {
   "display_name": "Python 3 (ipykernel)",
   "language": "python",
   "name": "python3"
  },
  "language_info": {
   "codemirror_mode": {
    "name": "ipython",
    "version": 3
   },
   "file_extension": ".py",
   "mimetype": "text/x-python",
   "name": "python",
   "nbconvert_exporter": "python",
   "pygments_lexer": "ipython3",
   "version": "3.8.18"
  }
 },
 "nbformat": 4,
 "nbformat_minor": 5
}
